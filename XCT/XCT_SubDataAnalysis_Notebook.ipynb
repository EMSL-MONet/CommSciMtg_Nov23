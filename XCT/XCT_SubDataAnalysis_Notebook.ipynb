{
 "cells": [
  {
   "cell_type": "code",
   "execution_count": 1,
   "metadata": {},
   "outputs": [],
   "source": [
    "# Import relevant modules needed for simple segmentation\n",
    "#\n",
    "import cv2 as cv\n",
    "import numpy as np\n",
    "from matplotlib import pyplot as plt\n",
    "import copy\n",
    "import time"
   ]
  },
  {
   "cell_type": "code",
   "execution_count": 2,
   "metadata": {},
   "outputs": [],
   "source": [
    "#================================================================;\n",
    "#  Function-1: Write VTK file to visualize part of the XCT data  ;\n",
    "#================================================================;\n",
    "def write_VTK_file(vtk_fl_name, num_nodes, num_elements, nodes_per_element, \\\n",
    "                    coord_matrix, connectivity_matrix, mat_id_matrix):\n",
    "\n",
    "    #------------------------------------------------;\n",
    "    #  Write coord, connectivity, and scalar fields  ;\n",
    "    #------------------------------------------------;\n",
    "    fid = open(vtk_fl_name + '.vtk','w+')\n",
    "    #\n",
    "    fid.write('# vtk DataFile Version 2.0 \\n') #Write the 'Header' for ASCII files; HEADER: Lines required in output file = '5' \n",
    "    fid.write('Written using Python (TEST CASE) \\n')\n",
    "    fid.write('ASCII \\n')\n",
    "    fid.write('DATASET UNSTRUCTURED_GRID \\n \\n')\n",
    "    #\n",
    "    fid.write('POINTS ' + str(int(num_nodes)) + ' float \\n') #Write the coordinate matrix -- Relative\n",
    "    for i in range(0, num_nodes):\n",
    "        fid.write(str(float(coord_matrix[i,0])) + ' ' + \\\n",
    "                    str(float(coord_matrix[i,1])) + ' ' + \\\n",
    "                    str(float(coord_matrix[i,2])) + '\\n')\n",
    "    fid.write('\\n')\n",
    "    #\n",
    "    fid.write('CELLS ' + str(int(num_elements)) + ' ' + \\\n",
    "              str(int(num_elements*(nodes_per_element+1))) + ' \\n') #Write the connectivity matrix\n",
    "    for i in range(0, num_elements):\n",
    "        fid.write(str(8) + ' ' + str(int(connectivity_matrix[i,0])) + \\\n",
    "                  ' ' + str(int(connectivity_matrix[i,1])) + \\\n",
    "                  ' ' + str(int(connectivity_matrix[i,2])) + \\\n",
    "                  ' ' + str(int(connectivity_matrix[i,3])) + \\\n",
    "                  ' ' + str(int(connectivity_matrix[i,4])) + \\\n",
    "                  ' ' + str(int(connectivity_matrix[i,5])) + \\\n",
    "                  ' ' + str(int(connectivity_matrix[i,6])) + \\\n",
    "                  ' ' + str(int(connectivity_matrix[i,7])) + '\\n')\n",
    "    fid.write('\\n')\n",
    "    #\n",
    "    fid.write('CELL_TYPES ' + str(int(num_elements)) +  ' \\n') #Write cell types VTK_HEXAHEDRON (=12)\n",
    "    for i in range(0, num_elements):\n",
    "        fid.write(str(12) + '\\n')\n",
    "    fid.write('\\n')\n",
    "    ## (https://stackoverflow.com/questions/30596972/with-vtk-python-api-add-multiple-scalars-to-unstructured-grid-cells)\n",
    "    #\n",
    "    fid.write('CELL_DATA ' + str(int(num_elements)) + ' \\n') #Write permeability\n",
    "    fid.write('SCALARS Material-ID FLOAT \\n') #Write material ID\n",
    "    fid.write('LOOKUP_TABLE default \\n')\n",
    "    for i in range(0, num_elements):\n",
    "        fid.write(str(float(mat_id_matrix[i])) + '\\n')\n",
    "    fid.write('\\n')\n",
    "    #\n",
    "    fid.close()"
   ]
  },
  {
   "cell_type": "code",
   "execution_count": 3,
   "metadata": {},
   "outputs": [],
   "source": [
    "#*****************************;\n",
    "#  1. Paths and loading data  ;\n",
    "#*****************************;\n",
    "path       = '/Users/mudu605/Downloads/XCT/'\n",
    "path_data  = path + 'Images/'\n",
    "path_plots = path + 'Img_Binarize_v3/'"
   ]
  },
  {
   "cell_type": "code",
   "execution_count": 4,
   "metadata": {},
   "outputs": [],
   "source": [
    "#******************************************************************;\n",
    "#  2. Mesh and connectivity specifics for visualizing in ParaView  ;\n",
    "#******************************************************************;\n",
    "Lx          = 30.35/1000 #30.35mm\n",
    "Ly          = 30.35/1000 #30.35mm\n",
    "Lz          = 30.35/1000 #30.35mm\n",
    "#\n",
    "XSeed       = 50+1 #51 nodes in X-dir\n",
    "YSeed       = 50+1 #51 nodes in Y-dir\n",
    "ZSeed       = 50+1 #51 nodes in Z-dir\n",
    "#\n",
    "xcoord_list = np.linspace(0,0.1*Lx,XSeed) #(51,)\n",
    "ycoord_list = np.linspace(0,0.1*Ly,YSeed) #(51,)\n",
    "zcoord_list = np.linspace(0,0.1*Lz,ZSeed) #(51,)\n",
    "#\n",
    "#Right-handed coordinate system\n",
    "#Create coordinate matrix -- Structured grid\n",
    "#https://bytebucket.org/pflotran/pflotran/wiki/Depreciated/Documentation/Files/user_manual.pdf?rev=f8f2c75ed07230a305fae0520ca63a9e6badd433\n",
    "#Look into pg-90\n",
    "num_nodes         = XSeed*YSeed*ZSeed #51*51*51 --> 132651\n",
    "coord_list        = np.ndarray(shape = (num_nodes,3), dtype = float) #(132651,3) = (132651,3)\n",
    "#\n",
    "for k in range(0,ZSeed): #Z-dir\n",
    "    for j in range(0,YSeed): #Y-dir\n",
    "        for i in range(0,XSeed): #X-dir\n",
    "            xcoord             = xcoord_list[i]\n",
    "            ycoord             = ycoord_list[j]\n",
    "            zcoord             = zcoord_list[k]\n",
    "            #\n",
    "            node               = i + j * XSeed + k * XSeed * YSeed #0-based coord\n",
    "            coord_list[node,0] = xcoord\n",
    "            coord_list[node,1] = ycoord\n",
    "            coord_list[node,2] = zcoord\n",
    "            #print(node, i, j, k, xcoord, ycoord, zcoord)\n",
    "\n",
    "#Right-handed coordinate system\n",
    "#Create connectivity matrix -- Structured grid\n",
    "num_elements      = (XSeed - 1) * (YSeed - 1) * (ZSeed - 1) #50*50*50 = 125000\n",
    "connectivity_list = np.ndarray(shape = (num_elements,8), dtype = int) #(125000,8)\n",
    "#\n",
    "counter = 0\n",
    "for k in range(0,ZSeed-1): #Create connectivity matrix\n",
    "    for j in range(0,YSeed-1):\n",
    "        for i in range(0,XSeed-1):\n",
    "            index                        = i + j * XSeed + k * XSeed * YSeed #Node number\n",
    "            elem_index                   = i + j * (XSeed - 1) + k * (XSeed - 1) * (YSeed - 1) #Cell number\n",
    "            #\n",
    "            connectivity_list[counter,0] = index\n",
    "            connectivity_list[counter,1] = index + 1\n",
    "            connectivity_list[counter,2] = index + 1 + XSeed\n",
    "            connectivity_list[counter,3] = index + XSeed\n",
    "            connectivity_list[counter,4] = index + XSeed * YSeed\n",
    "            connectivity_list[counter,5] = index + 1 + XSeed * YSeed\n",
    "            connectivity_list[counter,6] = index + 1 + XSeed + XSeed * YSeed\n",
    "            connectivity_list[counter,7] = index + XSeed + XSeed * YSeed\n",
    "            #\n",
    "            #print(counter,elem_index,i,j,k,index)\n",
    "            counter                      = counter + 1"
   ]
  },
  {
   "cell_type": "code",
   "execution_count": 5,
   "metadata": {},
   "outputs": [],
   "source": [
    "#********************************************************************;\n",
    "#  3. Get 2D images and stack it as 3D with ML-enabled thresholding  ;\n",
    "#********************************************************************;\n",
    "img_3d_stack = np.zeros((YSeed-1,ZSeed-1,XSeed-1), dtype = int) #(50,50,50) ordering for np array\n",
    "th3_3d_stack = np.zeros((YSeed-1,ZSeed-1,XSeed-1), dtype = int) #(50,50,50) ordering for np array\n",
    "#\n",
    "for stride in range(0,YSeed-1):\n",
    "    if stride < 10:\n",
    "        img = cv.imread(path_data + 'Bean Bucket 8bit image000' + str(stride) + '.tif', cv.IMREAD_GRAYSCALE)\n",
    "    if stride >= 10 and stride < 100:\n",
    "        img = cv.imread(path_data + 'Bean Bucket 8bit image00' + str(stride) + '.tif', cv.IMREAD_GRAYSCALE)\n",
    "    if stride >= 100:\n",
    "        img = cv.imread(path_data + 'Bean Bucket 8bit image0' + str(stride) + '.tif', cv.IMREAD_GRAYSCALE)\n",
    "    #print(stride)\n",
    "    #print(img)\n",
    "    #\n",
    "    # global thresholding\n",
    "    #ret1,th1 = cv.threshold(img,127,255,cv.THRESH_BINARY)\n",
    "    #\n",
    "    # Otsu's thresholding\n",
    "    #ret2,th2 = cv.threshold(img,0,255,cv.THRESH_BINARY+cv.THRESH_OTSU)\n",
    "    #\n",
    "    # Otsu's thresholding after Gaussian filtering\n",
    "    blur = cv.GaussianBlur(img,(5,5),0)\n",
    "    ret3,th3 = cv.threshold(blur,0,255,cv.THRESH_BINARY+cv.THRESH_OTSU)\n",
    "    #\n",
    "    #print(img.shape)\n",
    "    #print(th3.shape)\n",
    "    #\n",
    "    img_3d_stack[stride,:,:] = copy.deepcopy(np.flipud(img[0:50,0:50]))\n",
    "    th3_3d_stack[stride,:,:] = copy.deepcopy(np.flipud(th3[0:50,0:50]))\n",
    "    #\n",
    "    fig = plt.figure()\n",
    "    ax = fig.add_subplot(111)\n",
    "    ax.imshow(th3[0:50,0:50], 'gray')\n",
    "    plt.savefig(path_plots+ 'th3_' + str(stride) + '.png')\n",
    "    fig.tight_layout()\n",
    "    plt.close(fig)"
   ]
  },
  {
   "cell_type": "code",
   "execution_count": 6,
   "metadata": {},
   "outputs": [],
   "source": [
    "np.save(path_plots + 'SubVol_Img.npy', img_3d_stack)"
   ]
  },
  {
   "cell_type": "code",
   "execution_count": 7,
   "metadata": {},
   "outputs": [
    {
     "data": {
      "image/png": "[encoded data removed]",
      "text/plain": [
       "<Figure size 432x288 with 1 Axes>"
      ]
     },
     "metadata": {
      "needs_background": "light"
     },
     "output_type": "display_data"
    }
   ],
   "source": [
    "fig = plt.figure()\n",
    "ax = fig.add_subplot(111)\n",
    "ax.imshow(img_3d_stack[49,:,:], 'gray')\n",
    "fig.tight_layout()\n",
    "plt.show()"
   ]
  },
  {
   "cell_type": "code",
   "execution_count": 8,
   "metadata": {},
   "outputs": [
    {
     "data": {
      "image/png": "[encoded data removed]",
      "text/plain": [
       "<Figure size 432x288 with 1 Axes>"
      ]
     },
     "metadata": {
      "needs_background": "light"
     },
     "output_type": "display_data"
    }
   ],
   "source": [
    "fig = plt.figure()\n",
    "ax = fig.add_subplot(111)\n",
    "ax.imshow(th3_3d_stack[49,:,:], 'gray')\n",
    "fig.tight_layout()\n",
    "plt.show()"
   ]
  },
  {
   "cell_type": "code",
   "execution_count": 9,
   "metadata": {},
   "outputs": [],
   "source": [
    "#*******************************************************************;\n",
    "#  4. Image binarization as VTK file and visualization in ParaView  ;\n",
    "#*******************************************************************;\n",
    "mat_id_list   = np.ndarray(shape = (num_elements,1), dtype = int) #(125000,1) #materials ids for h5 and VTK\n",
    "th3_id_list   = np.ndarray(shape = (num_elements,1), dtype = int) #(125000,1) #materials ids for h5 and VTK\n",
    "#\n",
    "counter = 0\n",
    "for k in range(0,ZSeed-1):\n",
    "    for j in range(0,YSeed-1): #Y-dir\n",
    "        for i in range(0,XSeed-1): #X-dir\n",
    "            elem_index                = i + j * (XSeed - 1) + k * (XSeed - 1) * (YSeed - 1) #Cell number\n",
    "            mat_id_list[elem_index,0] = img_3d_stack[j,k,i]\n",
    "            th3_id_list[elem_index,0] = th3_3d_stack[j,k,i]\n",
    "\n",
    "nodes_per_element = 8\n",
    "vtk_fl_name       = path_plots + 'Th3_3D_file_v3'\n",
    "#\n",
    "write_VTK_file(vtk_fl_name, num_nodes, num_elements, nodes_per_element, \\\n",
    "                coord_list, connectivity_list, th3_id_list)"
   ]
  },
  {
   "cell_type": "code",
   "execution_count": null,
   "metadata": {},
   "outputs": [],
   "source": []
  }
 ],
 "metadata": {
  "kernelspec": {
   "display_name": "Python 3",
   "language": "python",
   "name": "python3"
  },
  "language_info": {
   "codemirror_mode": {
    "name": "ipython",
    "version": 3
   },
   "file_extension": ".py",
   "mimetype": "text/x-python",
   "name": "python",
   "nbconvert_exporter": "python",
   "pygments_lexer": "ipython3",
   "version": "3.8.3"
  }
 },
 "nbformat": 4,
 "nbformat_minor": 4
}
